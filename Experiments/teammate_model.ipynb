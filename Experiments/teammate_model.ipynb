{
 "cells": [
  {
   "cell_type": "code",
   "execution_count": 75,
   "id": "008f0504",
   "metadata": {},
   "outputs": [],
   "source": [
    "# This model is based on [MuradAhmed00] model, selected as the best approach with feature engineering and hyper tuning in comparison with [nadeli11] baseline model\n",
    "# 📦 Imports\n",
    "import pandas as pd\n",
    "import numpy as np\n",
    "\n",
    "from sklearn.model_selection import train_test_split, RandomizedSearchCV\n",
    "from sklearn.preprocessing import OneHotEncoder\n",
    "from sklearn.compose import ColumnTransformer\n",
    "from sklearn.pipeline import Pipeline\n",
    "from sklearn.ensemble import RandomForestRegressor\n",
    "from sklearn.metrics import mean_squared_error, r2_score\n",
    "from scipy.stats import randint, uniform\n",
    "\n",
    "import joblib\n",
    "\n",
    "# 🔍 Auto-detect PROJECT_ROOT as the first parent that contains 'Data' and 'Models'\n",
    "current = Path.cwd()\n",
    "while not (current / \"Data\").exists() or not (current / \"Models\").exists():\n",
    "    current = current.parent\n",
    "PROJECT_ROOT = current\n",
    "\n",
    "# 📁 Define key paths\n",
    "RAW_DATA_PATH = PROJECT_ROOT / \"Data\" / \"Raw\" / \"Sample_Superstore.csv\"\n",
    "FEATURE_ENGINEERED_PATH = PROJECT_ROOT / \"Data\" / \"Processed\" / \"feature_engineered_superstore.csv\"\n",
    "EX_MODEL_OUTPUT_DIR = PROJECT_ROOT / \"Experiments\"\n",
    "EX_METRIC_LOG_PATH = PROJECT_ROOT / \"Experiments\" / \"experements_model_metrics_log.csv\"\n",
    "\n",
    "# 📁 Ensure output directory exists\n",
    "EX_MODEL_OUTPUT_DIR.mkdir(parents=True, exist_ok=True)"
   ]
  },
  {
   "cell_type": "code",
   "execution_count": 76,
   "id": "783402e8",
   "metadata": {},
   "outputs": [
    {
     "name": "stdout",
     "output_type": "stream",
     "text": [
      "Fitting 5 folds for each of 30 candidates, totalling 150 fits\n",
      "Fitting 5 folds for each of 30 candidates, totalling 150 fits\n",
      "Best hyperparameters: {'model__max_depth': 17, 'model__max_features': 0.7, 'model__min_samples_leaf': 5, 'model__n_estimators': 444}\n"
     ]
    }
   ],
   "source": [
    "# Load dataset\n",
    "file_path = PROJECT_ROOT / \"Data\" / \"Raw\" / \"Sample_superstore.csv\"\n",
    "\n",
    "df = pd.read_csv(file_path , encoding='latin1', parse_dates=['Order Date', 'Ship Date'])\n",
    "\n",
    "# Engineer features (same as original teammate notebook)\n",
    "df['Order_Month'] = df['Order Date'].dt.month\n",
    "df['Month_sin'] = np.sin(2*np.pi*(df['Order_Month']-1)/12)\n",
    "df['Month_cos'] = np.cos(2*np.pi*(df['Order_Month']-1)/12)\n",
    "df['Order_Weekday'] = df['Order Date'].dt.weekday\n",
    "df['Weekday_sin'] = np.sin(2*np.pi*df['Order_Weekday']/7)\n",
    "df['Weekday_cos'] = np.cos(2*np.pi*df['Order_Weekday']/7)\n",
    "df['Ship_Delay'] = (df['Ship Date'] - df['Order Date']).dt.days\n",
    "df['Bulk_Flag'] = (df['Quantity'] > df['Quantity'].quantile(0.75)).astype(int)\n",
    "df['Log_Quantity'] = np.log1p(df['Quantity'])\n",
    "df['Quantity_Sq'] = df['Quantity']**2\n",
    "df['Discount_to_Qty'] = df['Discount'] / (df['Quantity'] + 1e-6)\n",
    "df['Profit_per_Unit'] = df['Profit'] / (df['Quantity'] + 1e-6)\n",
    "df['Cat_Mean_Qty'] = df.groupby('Category')['Quantity'].transform('mean')\n",
    "df['Cat_STD_Qty'] = df.groupby('Category')['Quantity'].transform('std').fillna(0)\n",
    "df['Subcat_Mean_Discount'] = df.groupby('Sub-Category')['Discount'].transform('mean')\n",
    "df['Subcat_STD_Discount'] = df.groupby('Sub-Category')['Discount'].transform('std').fillna(0)\n",
    "df = df.sort_values(['Customer ID', 'Order Date'])\n",
    "df['Prev_Order_Date'] = df.groupby('Customer ID')['Order Date'].shift(1)\n",
    "df['Days_Since_Last_Order'] = (df['Order Date'] - df['Prev_Order_Date']).dt.days.fillna(-1)\n",
    "df['Cust_Order_Count'] = df.groupby('Customer ID')['Order ID'].transform('nunique')\n",
    "df['Cust_Mean_Qty'] = df.groupby('Customer ID')['Quantity'].transform('mean')\n",
    "df['Items_per_Order'] = df.groupby('Order ID')['Quantity'].transform('sum')\n",
    "df['Unique_Products'] = df.groupby('Order ID')['Sub-Category'].transform('nunique')\n",
    "\n",
    "# Features\n",
    "cats = ['Category', 'Sub-Category', 'Region', 'Segment', 'Ship Mode']\n",
    "nums = ['Quantity', 'Discount', 'Profit']\n",
    "eng  = ['Month_sin','Month_cos','Weekday_sin','Weekday_cos','Ship_Delay',\n",
    "        'Bulk_Flag','Log_Quantity','Quantity_Sq','Discount_to_Qty','Profit_per_Unit',\n",
    "        'Cat_Mean_Qty','Cat_STD_Qty','Subcat_Mean_Discount','Subcat_STD_Discount',\n",
    "        'Days_Since_Last_Order','Cust_Order_Count','Cust_Mean_Qty',\n",
    "        'Items_per_Order','Unique_Products']\n",
    "features = cats + nums + eng\n",
    "target = 'Sales'\n",
    "\n",
    "# Prepare inputs\n",
    "df = df.dropna(subset=features + [target])\n",
    "tm_X = df[features]\n",
    "tm_Y = df[target]\n",
    "\n",
    "# Split\n",
    "tm_X_train, tm_X_test, tm_y_train, tm_y_test = train_test_split(tm_X, tm_Y, test_size=0.2, random_state=42)\n",
    "\n",
    "# Pipeline\n",
    "preprocessor = ColumnTransformer([('ohe', OneHotEncoder(handle_unknown='ignore'), cats)], remainder='passthrough')\n",
    "tm_rf_pipe = Pipeline([\n",
    "    ('prep', preprocessor),\n",
    "    ('model', RandomForestRegressor(random_state=42, n_jobs=-1))\n",
    "])\n",
    "\n",
    "# Random Search\n",
    "tm_param_dist = {\n",
    "    'model__n_estimators': randint(100, 500),\n",
    "    'model__max_depth': randint(5, 20),\n",
    "    'model__min_samples_leaf': randint(5, 50),\n",
    "    'model__max_features': ['sqrt', 'log2', 0.3, 0.5, 0.7]\n",
    "}\n",
    "tm_model = RandomizedSearchCV(tm_rf_pipe, tm_param_dist, n_iter=30, cv=5, scoring='r2', random_state=42, n_jobs=-1, verbose=1)\n",
    "tm_model.fit(tm_X_train, tm_y_train)\n",
    "\n",
    "search = RandomizedSearchCV(\n",
    "    tm_rf_pipe, tm_param_dist, n_iter=30, cv=5,\n",
    "    scoring='r2', random_state=42, n_jobs=-1, verbose=1\n",
    ")\n",
    "search.fit(tm_X_train, tm_y_train)\n",
    "\n",
    "tm_best = search.best_estimator_\n",
    "print(\"Best hyperparameters:\", search.best_params_)\n"
   ]
  },
  {
   "cell_type": "code",
   "execution_count": 77,
   "id": "53348fdf",
   "metadata": {},
   "outputs": [
    {
     "name": "stdout",
     "output_type": "stream",
     "text": [
      "✅ Teammate's Random Forest Model trained.\n",
      "Best Parameters: {'model__max_depth': 17, 'model__max_features': 0.7, 'model__min_samples_leaf': 5, 'model__n_estimators': 444}\n"
     ]
    }
   ],
   "source": [
    "print(\"✅ Teammate's Random Forest Model trained.\")\n",
    "print(\"Best Parameters:\", tm_model.best_params_)"
   ]
  },
  {
   "cell_type": "code",
   "execution_count": 78,
   "id": "09974e9e",
   "metadata": {},
   "outputs": [
    {
     "name": "stdout",
     "output_type": "stream",
     "text": [
      "✅ Teammate model after tuning:\n",
      "  Train → RMSE: 280.40, R²: 0.8044, Adjusted R²: 0.8037\n",
      "  Test  → RMSE: 269.45, R²: 0.7828, Adjusted R²: 0.7798\n",
      "Test MAPE: 48.88%\n",
      "Train MAPE: 35.87%\n",
      "Train SMAPE: 25.34%\n",
      "Test  SMAPE: 31.68%\n"
     ]
    }
   ],
   "source": [
    "# Evaluate teammate's best model\n",
    "tm_train_pred = tm_best.predict(tm_X_train)\n",
    "tm_test_pred  = tm_best.predict(tm_X_test)\n",
    "\n",
    "# R² scores\n",
    "tm_r2_train = r2_score(tm_y_train, tm_train_pred)\n",
    "tm_r2_test  = r2_score(tm_y_test,  tm_test_pred)\n",
    "\n",
    "# Adjusted R²\n",
    "n_train, n_test = len(tm_y_train), len(tm_y_test)\n",
    "p = len(features)\n",
    "tm_adj_r2_train = 1 - (1 - tm_r2_train) * (n_train - 1) / (n_train - p - 1)\n",
    "tm_adj_r2_test  = 1 - (1 - tm_r2_test)  * (n_test  - 1) / (n_test  - p - 1)\n",
    "\n",
    "# 🧾 Print results\n",
    "print(\"✅ Teammate model after tuning:\")\n",
    "print(f\"  Train → RMSE: {root_mean_squared_error(tm_y_train, tm_train_pred):.2f}, \"\n",
    "      f\"R²: {tm_r2_train:.4f}, Adjusted R²: {tm_adj_r2_train:.4f}\")\n",
    "print(f\"  Test  → RMSE: {root_mean_squared_error(tm_y_test, tm_test_pred):.2f}, \"\n",
    "      f\"R²: {tm_r2_test:.4f}, Adjusted R²: {tm_adj_r2_test:.4f}\")\n",
    "\n",
    "# MAPE – Mean Absolute Percentage Error\n",
    "tm_mape_test = mean_absolute_percentage_error(tm_y_test, tm_test_pred) * 100\n",
    "tm_mape_train = mean_absolute_percentage_error(tm_y_train, tm_train_pred) * 100\n",
    "print(f\"Test MAPE: {tm_mape_test:.2f}%\")\n",
    "print(f\"Train MAPE: {tm_mape_train:.2f}%\")\n",
    "\n",
    "# SMAPE – Symmetric Mean Absolute Percentage Error\n",
    "def tm_smape(y_true, y_pred, epsilon=1e-8):\n",
    "    num = np.abs(y_pred - y_true)\n",
    "    den = (np.abs(y_true) + np.abs(y_pred)) / 2\n",
    "    return np.mean(num / (den + epsilon)) * 100\n",
    "\n",
    "tm_smape_train = tm_smape(tm_y_train, tm_train_pred)\n",
    "tm_smape_test  = tm_smape(tm_y_test,  tm_test_pred)\n",
    "print(f\"Train SMAPE: {tm_smape_train:.2f}%\")\n",
    "print(f\"Test  SMAPE: {tm_smape_test:.2f}%\")"
   ]
  },
  {
   "cell_type": "code",
   "execution_count": 79,
   "id": "e389fdcb",
   "metadata": {},
   "outputs": [
    {
     "name": "stdout",
     "output_type": "stream",
     "text": [
      "Features Importance:\n",
      "\n",
      "Profit: 0.671\n",
      "Profit_per_Unit: 0.175\n",
      "Discount_to_Qty: 0.022\n",
      "Discount: 0.015\n",
      "Subcat_Mean_Discount: 0.011\n",
      "Quantity_Sq: 0.008\n",
      "Log_Quantity: 0.008\n",
      "Cat_Mean_Qty: 0.008\n",
      "Quantity: 0.007\n",
      "Sub-Category_Machines: 0.007\n",
      "Category_Office Supplies: 0.006\n",
      "Cust_Order_Count: 0.006\n",
      "Cust_Mean_Qty: 0.005\n",
      "Items_per_Order: 0.004\n",
      "Subcat_STD_Discount: 0.004\n",
      "Sub-Category_Storage: 0.004\n",
      "Sub-Category_Chairs: 0.003\n",
      "Sub-Category_Copiers: 0.003\n",
      "Month_sin: 0.002\n",
      "Month_cos: 0.002\n"
     ]
    },
    {
     "data": {
      "image/png": "[encoded data removed]",
      "text/plain": [
       "<Figure size 800x500 with 1 Axes>"
      ]
     },
     "metadata": {},
     "output_type": "display_data"
    }
   ],
   "source": [
    "# Top Feature Importances\n",
    "\n",
    "import pandas as pd\n",
    "import matplotlib.pyplot as plt\n",
    "\n",
    "# 1) Grab the best pipeline\n",
    "best_pipe = search.best_estimator_\n",
    "\n",
    "# 2) Determine feature names\n",
    "if 'prep' in best_pipe.named_steps:\n",
    "    feat_names = best_pipe.named_steps['prep'].get_feature_names_out()\n",
    "    feat_names = [n.split(\"__\",1)[1] for n in feat_names]\n",
    "else:\n",
    "    \n",
    "    feat_names = [\n",
    "        'Profit',\n",
    "        'Profit_per_Unit',\n",
    "        'Discount_to_Qty',\n",
    "        'Discount',\n",
    "        'Subcat_Mean_Discount'\n",
    "    ]\n",
    "\n",
    "# 3) importances\n",
    "importances = best_pipe.named_steps['model'].feature_importances_\n",
    "\n",
    "# 4) Build & sort DataFrame\n",
    "imp_df = pd.DataFrame({\n",
    "    'feature': feat_names,\n",
    "    'importance': importances\n",
    "}).sort_values('importance', ascending=False).head(20)\n",
    "\n",
    "# 4) Print the Top 20 Most Important Features\n",
    "top_n = 20\n",
    "tm_top_feat = imp_df.head(top_n)\n",
    "print(\"Features Importance:\\n\")\n",
    "for i, row in tm_top_feat.iterrows():\n",
    "    print(f\"{row['feature']}: {row['importance']:.3f}\")\n",
    "\n",
    "# 5) Plot \n",
    "plt.figure(figsize=(8,5))\n",
    "plt.barh(imp_df['feature'][::-1], imp_df['importance'][::-1])\n",
    "plt.xlabel('Importance')\n",
    "plt.title('Top Feature Importances')\n",
    "plt.tight_layout()\n",
    "plt.show()\n"
   ]
  },
  {
   "cell_type": "code",
   "execution_count": 80,
   "id": "ffc1b573",
   "metadata": {},
   "outputs": [
    {
     "name": "stdout",
     "output_type": "stream",
     "text": [
      "\n",
      "🔍 Detailed Evaluation Metrics\n",
      "Train → R²: 0.8044, Adjusted R²: 0.8037, RMSE: 280.40, MAE: 56.56, MAPE: 35.87%\n",
      "Test  → R²: 0.7828, Adjusted R²: 0.7798, RMSE: 269.45, MAE: 75.16, MAPE: 48.88%\n",
      "\n",
      "✅ Metrics logged to: /Users/nastaran/DSI_Project/C6_ML5/Experiments/model_comparison_log.csv\n"
     ]
    }
   ],
   "source": [
    "# Additional evaluation metrics\n",
    "from sklearn.metrics import r2_score, mean_squared_error, mean_absolute_percentage_error\n",
    "import numpy as np\n",
    "\n",
    "\n",
    "mse = mean_squared_error(tm_y_test, test_pred)\n",
    "rmse = np.sqrt(mse)\n",
    "rmse_test = root_mean_squared_error(tm_y_test, test_pred)\n",
    "mae_train = mean_absolute_error(tm_y_train, train_pred)\n",
    "mae_test  = mean_absolute_error(tm_y_test, test_pred)\n",
    "mape_train = mean_absolute_percentage_error(tm_y_train, train_pred)\n",
    "mape_test  = mean_absolute_percentage_error(tm_y_test, test_pred)\n",
    "\n",
    "# Print all metrics\n",
    "print(\"\\n🔍 Detailed Evaluation Metrics\")\n",
    "print(f\"Train → R²: {r2_train:.4f}, Adjusted R²: {adj_r2_train:.4f}, RMSE: {rmse_train:.2f}, MAE: {mae_train:.2f}, MAPE: {mape_train:.2%}\")\n",
    "print(f\"Test  → R²: {r2_test:.4f}, Adjusted R²: {adj_r2_test:.4f}, RMSE: {rmse_test:.2f}, MAE: {mae_test:.2f}, MAPE: {mape_test:.2%}\")\n",
    "\n",
    "# Optional: Log results to CSV\n",
    "import csv\n",
    "log_path = PROJECT_ROOT / \"Experiments\" / \"model_comparison_log.csv\"\n",
    "\n",
    "tm_metrics = {\n",
    "    \"Model\": \"Teammate_RF\",\n",
    "    \"Train_R2\": r2_train,\n",
    "    \"Test_R2\": r2_test,\n",
    "    \"Train_Adj_R2\": adj_r2_train,\n",
    "    \"Test_Adj_R2\": adj_r2_test,\n",
    "    \"Train_RMSE\": rmse_train,\n",
    "    \"Test_RMSE\": rmse_test,\n",
    "    \"Train_MAE\": mae_train,\n",
    "    \"Test_MAE\": mae_test,\n",
    "    \"Train_MAPE\": mape_train,\n",
    "    \"Test_MAPE\": mape_test,\n",
    "    \"Best_Params\": str(search.best_params_)\n",
    "}\n",
    "\n",
    "# Save to file (append if exists, create header if not)\n",
    "header = list(tm_metrics.keys())\n",
    "write_header = not log_path.exists()\n",
    "\n",
    "with open(log_path, mode='a', newline='') as file:\n",
    "    writer = csv.DictWriter(file, fieldnames=header)\n",
    "    if write_header:\n",
    "        writer.writeheader()\n",
    "    writer.writerow(tm_metrics)\n",
    "\n",
    "print(f\"\\n✅ Metrics logged to: {log_path}\")\n",
    "\n",
    "# Save prediction errors\n",
    "tm_error_df = pd.DataFrame({\n",
    "    \"Actual_tm\": tm_y_test,\n",
    "    \"Predicted_tm\": tm_test_pred\n",
    "})\n",
    "tm_error_df.to_csv(Path.cwd().parent / \"Models\" / \"Artifacts\" / \"top_tm_prediction_errors.csv\", index=False)\n",
    "\n"
   ]
  },
  {
   "cell_type": "code",
   "execution_count": 81,
   "id": "98a21d9c",
   "metadata": {},
   "outputs": [
    {
     "name": "stdout",
     "output_type": "stream",
     "text": [
      "Requirement already satisfied: tabulate in /opt/miniconda3/envs/dsi_env/lib/python3.12/site-packages (0.9.0)\n"
     ]
    }
   ],
   "source": [
    "! pip install tabulate"
   ]
  },
  {
   "cell_type": "code",
   "execution_count": 83,
   "id": "12862d7c",
   "metadata": {},
   "outputs": [
    {
     "name": "stdout",
     "output_type": "stream",
     "text": [
      "| Model       |   Train_R2 |   Test_R2 |   Train_Adj_R2 |   Test_Adj_R2 |   Train_RMSE |   Test_RMSE |   Train_MAE |   Test_MAE |   Train_MAPE |   Test_MAPE | Best_Params                                                                                                    |\n",
      "|:------------|-----------:|----------:|---------------:|--------------:|-------------:|------------:|------------:|-----------:|-------------:|------------:|:---------------------------------------------------------------------------------------------------------------|\n",
      "| Teammate_RF |   0.804391 |  0.782779 |       0.803728 |      0.779803 |      280.396 |     269.452 |     56.5594 |    75.1619 |     0.358675 |    0.488784 | {'model__max_depth': 17, 'model__max_features': 0.7, 'model__min_samples_leaf': 5, 'model__n_estimators': 444} |\n"
     ]
    }
   ],
   "source": [
    "import pandas as pd\n",
    "from pathlib import Path\n",
    "\n",
    "# 📁 Setup output path\n",
    "experiments_dir = Path.cwd().parent / \"Experiments\"\n",
    "experiments_dir.mkdir(exist_ok=True)\n",
    "output_file = experiments_dir / \"tm_rf_model_metrics.csv\"\n",
    "\n",
    "# Convert metrics to DataFrame\n",
    "tm_metrics_df = pd.DataFrame([tm_metrics])\n",
    "\n",
    "# Append or create\n",
    "if output_file.exists():\n",
    "    tm_metrics_df.to_csv(output_file, mode='a', header=False, index=False)\n",
    "else:\n",
    "    tm_metrics_df.to_csv(output_file, index=False)\n",
    "\n",
    "# 📝 Print as Markdown\n",
    "markdown = tm_metrics_df.to_markdown(index=False)\n",
    "print(markdown)\n"
   ]
  }
 ],
 "metadata": {
  "kernelspec": {
   "display_name": "dsi_env",
   "language": "python",
   "name": "python3"
  },
  "language_info": {
   "codemirror_mode": {
    "name": "ipython",
    "version": 3
   },
   "file_extension": ".py",
   "mimetype": "text/x-python",
   "name": "python",
   "nbconvert_exporter": "python",
   "pygments_lexer": "ipython3",
   "version": "3.12.0"
  }
 },
 "nbformat": 4,
 "nbformat_minor": 5
}
