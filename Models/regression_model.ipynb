{
 "cells": [
  {
   "cell_type": "code",
   "execution_count": 2,
   "metadata": {},
   "outputs": [],
   "source": [
    "import pandas as pd\n",
    "import numpy as np\n",
    "from sklearn.linear_model import LinearRegression\n",
    "from sklearn.model_selection import train_test_split\n",
    "from sklearn.preprocessing import OneHotEncoder\n",
    "from sklearn.compose import ColumnTransformer\n",
    "from sklearn.pipeline import Pipeline\n",
    "from sklearn.metrics import mean_squared_error, r2_score"
   ]
  },
  {
   "cell_type": "code",
   "execution_count": 3,
   "metadata": {},
   "outputs": [],
   "source": [
    "df = pd.read_csv('../Data/Raw/Sample - Superstore.csv', encoding=\"latin-1\")"
   ]
  },
  {
   "cell_type": "code",
   "execution_count": 4,
   "metadata": {},
   "outputs": [],
   "source": [
    "# Convert order date to numerical features\n",
    "df['Order Date'] = pd.to_datetime(df['Order Date'])\n",
    "df['Order_Year'] = df['Order Date'].dt.year\n",
    "df['Order_Month'] = df['Order Date'].dt.month\n",
    "df['Order_DayOfWeek'] = df['Order Date'].dt.dayofweek\n",
    "\n",
    "# Select relevant features and drop nulls\n",
    "features = ['Order_Year', 'Order_Month', 'Order_DayOfWeek', 'Ship Mode', 'Segment', 'Category']\n",
    "target = 'Sales'\n",
    "\n",
    "df_model = df[features + [target]].dropna()\n"
   ]
  },
  {
   "cell_type": "code",
   "execution_count": null,
   "metadata": {},
   "outputs": [],
   "source": [
    "X = df_model[features]\n",
    "y = df_model[target]\n",
    "\n",
    "# Define which columns are categorical\n",
    "categorical_features = ['Ship Mode', 'Segment', 'Category']\n",
    "numerical_features = ['Order_Year', 'Order_Month', 'Order_DayOfWeek']\n",
    "\n",
    "# One-hot encode categorical columns\n",
    "preprocessor = ColumnTransformer(\n",
    "    transformers=[\n",
    "        ('cat', OneHotEncoder(drop='first'), categorical_features)\n",
    "    ],\n",
    "    remainder='passthrough'  # Leave numeric features as they are\n",
    ")"
   ]
  },
  {
   "cell_type": "code",
   "execution_count": 6,
   "metadata": {},
   "outputs": [],
   "source": [
    "# Build pipeline\n",
    "pipeline = Pipeline([\n",
    "    ('preprocessor', preprocessor),\n",
    "    ('regressor', LinearRegression())\n",
    "])\n",
    "\n",
    "# Train-test split\n",
    "X_train, X_test, y_train, y_test = train_test_split(X, y, test_size=0.2, random_state=42)\n",
    "\n",
    "# Fit model\n",
    "pipeline.fit(X_train, y_train)\n",
    "\n",
    "# Predict\n",
    "y_pred = pipeline.predict(X_test)\n"
   ]
  },
  {
   "cell_type": "code",
   "execution_count": null,
   "metadata": {},
   "outputs": [
    {
     "name": "stdout",
     "output_type": "stream",
     "text": [
      "🔍 Regression Results:\n",
      "R² Score: 0.04149657746290902\n",
      "RMSE: 752.4540977622844\n"
     ]
    }
   ],
   "source": [
    "print(\"🔍 Regression Results:\")\n",
    "print(\"R² Score:\", r2_score(y_test, y_pred))\n",
    "print(\"RMSE:\", np.sqrt(mean_squared_error(y_test, y_pred)))"
   ]
  },
  {
   "cell_type": "code",
   "execution_count": null,
   "metadata": {},
   "outputs": [],
   "source": []
  }
 ],
 "metadata": {
  "kernelspec": {
   "display_name": "zoomcamp",
   "language": "python",
   "name": "python3"
  },
  "language_info": {
   "codemirror_mode": {
    "name": "ipython",
    "version": 3
   },
   "file_extension": ".py",
   "mimetype": "text/x-python",
   "name": "python",
   "nbconvert_exporter": "python",
   "pygments_lexer": "ipython3",
   "version": "3.10.18"
  }
 },
 "nbformat": 4,
 "nbformat_minor": 2
}
